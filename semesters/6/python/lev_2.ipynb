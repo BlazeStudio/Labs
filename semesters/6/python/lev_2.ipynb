{
 "cells": [
  {
   "cell_type": "markdown",
   "metadata": {},
   "source": [
    "### Задание 2.\n",
    "\n",
    "Произведено = 100 измерений некоторой случайной величины. Результаты представлены в таблице в виде статистического ряда. Построить гистограмму выдвинуть гипотезу о законе распределения с в. и проверить, на сколько она согласуется с экспериментом (проверить модель на адекватность по критерию Пирсона)."
   ]
  },
  {
   "cell_type": "code",
   "execution_count": 1,
   "metadata": {},
   "outputs": [
    {
     "name": "stdout",
     "output_type": "stream",
     "text": [
      "Исходные данные:\n",
      "Интервалы:\n",
      "  Интервал 1: (0;2)\n",
      "  Интервал 2: (2;4)\n",
      "  Интервал 3: (4;6)\n",
      "  Интервал 4: (6;8)\n",
      "  Интервал 5: (8;10)\n",
      "  Интервал 6: (10;12)\n",
      "Частоты попаданий для каждого интервала:\n",
      "  Интервал 1: 8\n",
      "  Интервал 2: 11\n",
      "  Интервал 3: 32\n",
      "  Интервал 4: 28\n",
      "  Интервал 5: 7\n",
      "  Интервал 6: 14\n",
      "Общее число измерений: N = 100\n",
      "\n",
      "============================================================\n",
      "\n"
     ]
    }
   ],
   "source": [
    "import numpy as np\n",
    "import matplotlib.pyplot as plt\n",
    "from scipy.stats import norm, chi2\n",
    "\n",
    "# -----------------------------\n",
    "# Исходные данные\n",
    "# -----------------------------\n",
    "# Интервалы (открытые границы для удобства аппроксимации):\n",
    "# Интервалы: (0;2), (2;4), (4;6), (6;8), (8;10), (10;12)\n",
    "# Частоты (число попаданий):\n",
    "intervals = np.array([[0, 2],\n",
    "                      [2, 4],\n",
    "                      [4, 6],\n",
    "                      [6, 8],\n",
    "                      [8, 10],\n",
    "                      [10, 12]])\n",
    "frequencies = np.array([8, 11, 32, 28, 7, 14])\n",
    "N = 100  # число измерений\n",
    "\n",
    "print(\"Исходные данные:\")\n",
    "print(\"Интервалы:\")\n",
    "for i, (a, b) in enumerate(intervals):\n",
    "    print(f\"  Интервал {i+1}: ({a};{b})\")\n",
    "print(\"Частоты попаданий для каждого интервала:\")\n",
    "for i, freq in enumerate(frequencies):\n",
    "    print(f\"  Интервал {i+1}: {freq}\")\n",
    "print(f\"Общее число измерений: N = {N}\")\n",
    "print(\"\\n\" + \"=\"*60 + \"\\n\")"
   ]
  },
  {
   "cell_type": "code",
   "execution_count": 2,
   "metadata": {},
   "outputs": [
    {
     "data": {
      "image/png": "[encoded data removed]",
      "text/plain": [
       "<Figure size 1000x600 with 1 Axes>"
      ]
     },
     "metadata": {},
     "output_type": "display_data"
    }
   ],
   "source": [
    "# ================================\n",
    "# 1. Построение гистограммы экспериментальных данных\n",
    "# ================================\n",
    "# Определим центры каждого интервала, которые будем считать представителями интервалов\n",
    "centers = intervals.mean(axis=1)\n",
    "widths = intervals[:,1] - intervals[:,0]\n",
    "\n",
    "plt.figure(figsize=(10, 6))\n",
    "plt.bar(centers, frequencies, width=widths*0.9, align='center',\n",
    "        alpha=0.6, edgecolor='black', label='Экспериментальные данные')\n",
    "plt.xlabel('Интервал значений')\n",
    "plt.ylabel('Число попаданий')\n",
    "plt.title('Гистограмма экспериментальных данных')\n",
    "plt.grid(True)"
   ]
  },
  {
   "cell_type": "code",
   "execution_count": 3,
   "metadata": {},
   "outputs": [
    {
     "name": "stdout",
     "output_type": "stream",
     "text": [
      "Оценка параметров нормального распределения:\n",
      "Расчёт математического ожидания (μ):\n",
      "  μ = (Σ (центр интервала * частота)) / N\n",
      "    Интервал 1: 1.00 * 8 = 8.00\n",
      "    Интервал 2: 3.00 * 11 = 33.00\n",
      "    Интервал 3: 5.00 * 32 = 160.00\n",
      "    Интервал 4: 7.00 * 28 = 196.00\n",
      "    Интервал 5: 9.00 * 7 = 63.00\n",
      "    Интервал 6: 11.00 * 14 = 154.00\n",
      "  Σ (центр * частота) = 614.00\n",
      "  N = 100\n",
      "  → μ = 6.14\n",
      "\n",
      "Расчёт дисперсии (σ²):\n",
      "  σ² = (Σ (частота * (центр - μ)²)) / N\n",
      "    Интервал 1: 8 * (1.00 - 6.14)² = 211.36\n",
      "    Интервал 2: 11 * (3.00 - 6.14)² = 108.46\n",
      "    Интервал 3: 32 * (5.00 - 6.14)² = 41.59\n",
      "    Интервал 4: 28 * (7.00 - 6.14)² = 20.71\n",
      "    Интервал 5: 7 * (9.00 - 6.14)² = 57.26\n",
      "    Интервал 6: 14 * (11.00 - 6.14)² = 330.67\n",
      "  Σ (частота * (центр - μ)²) = 770.04\n",
      "  → σ² = 7.70,  σ = 2.77\n",
      "\n",
      "============================================================\n",
      "\n"
     ]
    }
   ],
   "source": [
    "# ================================\n",
    "# 2. Оценка параметров нормального распределения\n",
    "# ================================\n",
    "# Выдвигаем гипотезу, что случайная величина имеет нормальное распределение.\n",
    "# В таком случае можно оценить параметры (математическое ожидание и дисперсию)\n",
    "# по \"центрам\" интервалов с учётом весов (частот).\n",
    "\n",
    "# Оценка математического ожидания (среднего):\n",
    "mean_est = np.sum(centers * frequencies) / N\n",
    "# Оценка дисперсии:\n",
    "var_est = np.sum(frequencies * (centers - mean_est)**2) / N\n",
    "std_est = np.sqrt(var_est)\n",
    "\n",
    "print(\"Оценка параметров нормального распределения:\")\n",
    "print(\"Расчёт математического ожидания (μ):\")\n",
    "print(\"  μ = (Σ (центр интервала * частота)) / N\")\n",
    "for i, (center, freq) in enumerate(zip(centers, frequencies)):\n",
    "    print(f\"    Интервал {i+1}: {center:.2f} * {freq} = {center*freq:.2f}\")\n",
    "print(f\"  Σ (центр * частота) = {np.sum(centers * frequencies):.2f}\")\n",
    "print(f\"  N = {N}\")\n",
    "print(f\"  → μ = {mean_est:.2f}\\n\")\n",
    "\n",
    "print(\"Расчёт дисперсии (σ²):\")\n",
    "print(\"  σ² = (Σ (частота * (центр - μ)²)) / N\")\n",
    "for i, (center, freq) in enumerate(zip(centers, frequencies)):\n",
    "    diff2 = (center - mean_est)**2\n",
    "    print(f\"    Интервал {i+1}: {freq} * ({center:.2f} - {mean_est:.2f})² = {freq*diff2:.2f}\")\n",
    "print(f\"  Σ (частота * (центр - μ)²) = {np.sum(frequencies * (centers - mean_est)**2):.2f}\")\n",
    "print(f\"  → σ² = {var_est:.2f},  σ = {std_est:.2f}\")\n",
    "print(\"\\n\" + \"=\"*60 + \"\\n\")"
   ]
  },
  {
   "cell_type": "code",
   "execution_count": 4,
   "metadata": {},
   "outputs": [
    {
     "name": "stdout",
     "output_type": "stream",
     "text": [
      "Расчёт теоретических частот по нормальному закону:\n",
      "  Интервал 1 (0;2):\n",
      "    Вероятность попадания = Φ((2 - 6.14)/2.77) - Φ((0 - 6.14)/2.77) = 0.0544\n",
      "    Теоретическая частота = 100 * 0.0544 = 5.44\n",
      "  Интервал 2 (2;4):\n",
      "    Вероятность попадания = Φ((4 - 6.14)/2.77) - Φ((2 - 6.14)/2.77) = 0.1524\n",
      "    Теоретическая частота = 100 * 0.1524 = 15.24\n",
      "  Интервал 3 (4;6):\n",
      "    Вероятность попадания = Φ((6 - 6.14)/2.77) - Φ((4 - 6.14)/2.77) = 0.2596\n",
      "    Теоретическая частота = 100 * 0.2596 = 25.96\n",
      "  Интервал 4 (6;8):\n",
      "    Вероятность попадания = Φ((8 - 6.14)/2.77) - Φ((6 - 6.14)/2.77) = 0.2688\n",
      "    Теоретическая частота = 100 * 0.2688 = 26.88\n",
      "  Интервал 5 (8;10):\n",
      "    Вероятность попадания = Φ((10 - 6.14)/2.77) - Φ((8 - 6.14)/2.77) = 0.1692\n",
      "    Теоретическая частота = 100 * 0.1692 = 16.92\n",
      "  Интервал 6 (10;12):\n",
      "    Вероятность попадания = Φ((12 - 6.14)/2.77) - Φ((10 - 6.14)/2.77) = 0.0648\n",
      "    Теоретическая частота = 100 * 0.0648 = 6.48\n",
      "\n",
      "============================================================\n",
      "\n"
     ]
    }
   ],
   "source": [
    "# ================================\n",
    "# 3. Расчёт теоретических частот по нормальному закону\n",
    "# ================================\n",
    "# Для нормального распределения вероятность попадания в интервал (a, b) вычисляется по формуле:\n",
    "#   P(a < X < b) = Φ((b-μ)/σ) - Φ((a-μ)/σ),\n",
    "# где Φ - функция распределения нормального распределения.\n",
    "def theoretical_prob(a, b, mean, std):\n",
    "    return norm.cdf(b, loc=mean, scale=std) - norm.cdf(a, loc=mean, scale=std)\n",
    "\n",
    "theoretical_freq = np.array([N * theoretical_prob(a, b, mean_est, std_est)\n",
    "                             for a, b in intervals])\n",
    "\n",
    "print(\"Расчёт теоретических частот по нормальному закону:\")\n",
    "for i, ((a, b), freq_theor) in enumerate(zip(intervals, theoretical_freq)):\n",
    "    prob = theoretical_prob(a, b, mean_est, std_est)\n",
    "    print(f\"  Интервал {i+1} ({a};{b}):\")\n",
    "    print(f\"    Вероятность попадания = Φ(({b} - {mean_est:.2f})/{std_est:.2f}) - Φ(({a} - {mean_est:.2f})/{std_est:.2f}) = {prob:.4f}\")\n",
    "    print(f\"    Теоретическая частота = {N} * {prob:.4f} = {freq_theor:.2f}\")\n",
    "print(\"\\n\" + \"=\"*60 + \"\\n\")"
   ]
  },
  {
   "cell_type": "code",
   "execution_count": 5,
   "metadata": {},
   "outputs": [
    {
     "data": {
      "image/png": "[encoded data removed]",
      "text/plain": [
       "<Figure size 640x480 with 1 Axes>"
      ]
     },
     "metadata": {},
     "output_type": "display_data"
    }
   ],
   "source": [
    "# ================================\n",
    "# 4. Отображение теоретической кривой плотности на гистограмме\n",
    "# ================================\n",
    "# Построим кривую плотности нормального распределения с оценёнными параметрами.\n",
    "x_plot = np.linspace(0, 12, 300)\n",
    "pdf = norm.pdf(x_plot, loc=mean_est, scale=std_est)\n",
    "# Для сопоставления с гистограммой (которая отражает абсолютные частоты)\n",
    "# масштабируем плотность: умножаем на среднюю ширину интервала и общее число измерений.\n",
    "avg_width = np.mean(widths)\n",
    "scaled_pdf = pdf * avg_width * N\n",
    "\n",
    "plt.plot(x_plot, scaled_pdf, 'r-', label='Нормальное распределение (теорет.)')\n",
    "plt.legend()\n",
    "plt.show()"
   ]
  },
  {
   "cell_type": "code",
   "execution_count": 6,
   "metadata": {},
   "outputs": [
    {
     "name": "stdout",
     "output_type": "stream",
     "text": [
      "Проверка гипотезы по критерию Пирсона (хи-квадрат):\n",
      "  Формула: χ² = Σ ((O_i - E_i)² / E_i)\n",
      "    Интервал 1: (O - E)²/E = (8.00 - 5.44)²/5.44 = 1.20\n",
      "    Интервал 2: (O - E)²/E = (11.00 - 15.24)²/15.24 = 1.18\n",
      "    Интервал 3: (O - E)²/E = (32.00 - 25.96)²/25.96 = 1.41\n",
      "    Интервал 4: (O - E)²/E = (28.00 - 26.88)²/26.88 = 0.05\n",
      "    Интервал 5: (O - E)²/E = (7.00 - 16.92)²/16.92 = 5.82\n",
      "    Интервал 6: (O - E)²/E = (14.00 - 6.48)²/6.48 = 8.74\n",
      "  → χ² = 18.40\n",
      "Степени свободы: df = k - p - 1 = 6 - 2 - 1 = 3\n",
      "p-value = 0.0004\n",
      "Результат: Гипотеза о нормальном распределении отвергается.\n"
     ]
    }
   ],
   "source": [
    "# ================================\n",
    "# 5. Проверка гипотезы по критерию Пирсона (хи-квадрат)\n",
    "# ================================\n",
    "# Критерий Пирсона рассчитывается по формуле:\n",
    "#   χ² = Σ [(O_i - E_i)² / E_i],\n",
    "# где O_i - наблюдаемая частота в интервале, E_i - теоретическая.\n",
    "chi2_stat = np.sum((frequencies - theoretical_freq)**2 / theoretical_freq)\n",
    "# Степени свободы: число интервалов (k) - число оценённых параметров (p=2: μ и σ) - 1.\n",
    "df = len(frequencies) - 2 - 1\n",
    "p_value = 1 - chi2.cdf(chi2_stat, df)\n",
    "\n",
    "print(\"Проверка гипотезы по критерию Пирсона (хи-квадрат):\")\n",
    "print(\"  Формула: χ² = Σ ((O_i - E_i)² / E_i)\")\n",
    "for i, (O, E) in enumerate(zip(frequencies, theoretical_freq)):\n",
    "    term = (O - E)**2 / E\n",
    "    print(f\"    Интервал {i+1}: (O - E)²/E = ({O:.2f} - {E:.2f})²/{E:.2f} = {term:.2f}\")\n",
    "print(f\"  → χ² = {chi2_stat:.2f}\")\n",
    "print(f\"Степени свободы: df = k - p - 1 = {len(frequencies)} - 2 - 1 = {df}\")\n",
    "print(f\"p-value = {p_value:.4f}\")\n",
    "\n",
    "alpha = 0.05\n",
    "if p_value > alpha:\n",
    "    print(\"Результат: Гипотеза о нормальном распределении принимается (нет оснований её отвергнуть).\")\n",
    "else:\n",
    "    print(\"Результат: Гипотеза о нормальном распределении отвергается.\")"
   ]
  }
 ],
 "metadata": {
  "kernelspec": {
   "display_name": "Python 3",
   "language": "python",
   "name": "python3"
  },
  "language_info": {
   "codemirror_mode": {
    "name": "ipython",
    "version": 3
   },
   "file_extension": ".py",
   "mimetype": "text/x-python",
   "name": "python",
   "nbconvert_exporter": "python",
   "pygments_lexer": "ipython3",
   "version": "3.11.9"
  }
 },
 "nbformat": 4,
 "nbformat_minor": 2
}
